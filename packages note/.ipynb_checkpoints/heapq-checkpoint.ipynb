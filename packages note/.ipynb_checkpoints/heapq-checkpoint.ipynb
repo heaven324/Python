{
 "cells": [
  {
   "cell_type": "markdown",
   "metadata": {},
   "source": [
    "# 힙 자료구조\n",
    "\n",
    "heapq모듈은 이진트리 기반의 최소힙 자료구조를 제공한다.\n",
    "\n",
    "파이썬에서는 heapq모듈을 통해서 원소를 추가하거나 삭제한 리스트가 그냥 최소힙이다.\n",
    "\n",
    "* 그냥 리스트를 사용하기 때문에 리스트의 접근 방식을 사용할 수 있다."
   ]
  },
  {
   "cell_type": "markdown",
   "metadata": {},
   "source": [
    "## 모듈 임포트"
   ]
  },
  {
   "cell_type": "code",
   "execution_count": 1,
   "metadata": {},
   "outputs": [],
   "source": [
    "import heapq"
   ]
  },
  {
   "cell_type": "markdown",
   "metadata": {},
   "source": [
    "## 최소 힙 생성\n",
    "```python\n",
    "heapq.heappush(heap_list, element)\n",
    "```"
   ]
  },
  {
   "cell_type": "code",
   "execution_count": 4,
   "metadata": {},
   "outputs": [
    {
     "name": "stdout",
     "output_type": "stream",
     "text": [
      "[1, 2, 3, 4]\n"
     ]
    }
   ],
   "source": [
    "import heapq\n",
    "\n",
    "heap = []                  # 힙으로 사용할 리스트 생성\n",
    "\n",
    "heapq.heappush(heap, 2)    # heapq모듈을 통해 원소를 추가\n",
    "heapq.heappush(heap, 1)\n",
    "heapq.heappush(heap, 3)\n",
    "heapq.heappush(heap, 4)\n",
    "print(heap)"
   ]
  },
  {
   "cell_type": "markdown",
   "metadata": {},
   "source": [
    "## 힙에서 원소 삭제\n",
    "```python\n",
    "heapq.heappop(heap_list)\n",
    "```"
   ]
  },
  {
   "cell_type": "code",
   "execution_count": 5,
   "metadata": {},
   "outputs": [
    {
     "name": "stdout",
     "output_type": "stream",
     "text": [
      "1\n",
      "[2, 4, 3]\n"
     ]
    }
   ],
   "source": [
    "print(heapq.heappop(heap))     # heap_list에서 빠져나온 원소를 출력\n",
    "print(heap)"
   ]
  },
  {
   "cell_type": "markdown",
   "metadata": {},
   "source": [
    "## 기존 리스트를 힙으로 변환"
   ]
  },
  {
   "cell_type": "code",
   "execution_count": 8,
   "metadata": {},
   "outputs": [
    {
     "name": "stdout",
     "output_type": "stream",
     "text": [
      "[1, 3, 5, 4, 8, 7]\n"
     ]
    }
   ],
   "source": [
    "heap = [4, 1, 7, 3, 8, 5]\n",
    "heapq.heapify(heap)\n",
    "print(heap)"
   ]
  },
  {
   "cell_type": "markdown",
   "metadata": {},
   "source": [
    "# 최대 힙(응용)\n",
    "\n",
    "heapq모듈은 최소힙의 기능만으로 동작하기 때문에 최대 힙으로 활용하기 위해서는 요령이 필요함\n",
    "\n",
    "    * 튜플을 이용해서 (우선순위, 값) 형식으로 저장하면 간단하다."
   ]
  },
  {
   "cell_type": "code",
   "execution_count": 13,
   "metadata": {},
   "outputs": [
    {
     "name": "stdout",
     "output_type": "stream",
     "text": [
      "[(-8, 8), (-7, 7), (-5, 5), (-1, 1), (-3, 3), (-4, 4)]\n",
      "8\n",
      "[(-7, 7), (-4, 4), (-5, 5), (-1, 1), (-3, 3)]\n",
      "7\n",
      "[(-5, 5), (-4, 4), (-3, 3), (-1, 1)]\n",
      "5\n",
      "[(-4, 4), (-1, 1), (-3, 3)]\n",
      "4\n",
      "[(-3, 3), (-1, 1)]\n",
      "3\n",
      "[(-1, 1)]\n",
      "1\n",
      "[]\n"
     ]
    }
   ],
   "source": [
    "import heapq\n",
    "\n",
    "nums = [4, 1, 7, 3, 8, 5]\n",
    "heap = []\n",
    "\n",
    "for num in nums:\n",
    "  heapq.heappush(heap, (-num, num))  # (우선 순위, 값)\n",
    "\n",
    "print(heap)\n",
    "while heap:\n",
    "    print(heapq.heappop(heap)[1])  # index 1\n",
    "    print(heap)"
   ]
  }
 ],
 "metadata": {
  "kernelspec": {
   "display_name": "Python 3",
   "language": "python",
   "name": "python3"
  },
  "language_info": {
   "codemirror_mode": {
    "name": "ipython",
    "version": 3
   },
   "file_extension": ".py",
   "mimetype": "text/x-python",
   "name": "python",
   "nbconvert_exporter": "python",
   "pygments_lexer": "ipython3",
   "version": "3.6.8"
  }
 },
 "nbformat": 4,
 "nbformat_minor": 2
}
