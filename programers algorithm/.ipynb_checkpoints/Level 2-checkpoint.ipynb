{
 "cells": [
  {
   "cell_type": "markdown",
   "metadata": {},
   "source": [
    "# 36. 예상 대진표"
   ]
  },
  {
   "cell_type": "code",
   "execution_count": 2,
   "metadata": {},
   "outputs": [
    {
     "name": "stdout",
     "output_type": "stream",
     "text": [
      "8 4 7\n"
     ]
    }
   ],
   "source": [
    "# input\n",
    "n, a, b = 8, 4, 7\n",
    "\n",
    "# return\n",
    "3"
   ]
  },
  {
   "cell_type": "code",
   "execution_count": 29,
   "metadata": {},
   "outputs": [
    {
     "name": "stdout",
     "output_type": "stream",
     "text": [
      "3\n"
     ]
    }
   ],
   "source": [
    "n, a, b = 8, 4, 7\n",
    "\n",
    "def solution(n,a,b):\n",
    "    if a > b:\n",
    "        dummy = a\n",
    "        a = b\n",
    "        b = dummy\n",
    "    for i in range(int(n/2)):\n",
    "        if a % 2 == 1 and a+1 == b:\n",
    "            break\n",
    "        if a % 2 == 0:\n",
    "            a = int(a/2)\n",
    "        else:\n",
    "            a = int(a/2)+1\n",
    "        if b % 2 == 0:\n",
    "            b = int(b/2)\n",
    "        else:\n",
    "            b = int(b/2)+1\n",
    "    return i+1\n",
    "\n",
    "print(solution(n, a, b))"
   ]
  },
  {
   "cell_type": "markdown",
   "metadata": {},
   "source": [
    "# 37. 영어 끝말잇기"
   ]
  },
  {
   "cell_type": "code",
   "execution_count": 31,
   "metadata": {},
   "outputs": [
    {
     "data": {
      "text/plain": [
       "[1, 3]"
      ]
     },
     "execution_count": 31,
     "metadata": {},
     "output_type": "execute_result"
    }
   ],
   "source": [
    "# input\n",
    "words = ['tank', 'kick', 'know', 'wheel', 'land', 'dream', 'mother', 'robot', 'tank']\n",
    "n = 3\n",
    "words = ['hello', 'observe', 'effect', 'take', 'either', 'recognize', 'encourage', 'ensure', 'establish', 'hang', 'gather', 'refer', 'reference', 'estimate', 'executive']\n",
    "n = 5\n",
    "words = ['hello', 'one', 'even', 'never', 'now', 'world', 'draw']\n",
    "n = 2\n",
    "\n",
    "# return\n",
    "[3,3]\n",
    "[0,0]\n",
    "[1,3]"
   ]
  },
  {
   "cell_type": "code",
   "execution_count": 52,
   "metadata": {},
   "outputs": [
    {
     "name": "stdout",
     "output_type": "stream",
     "text": [
      "9\n",
      "[3, 3]\n"
     ]
    }
   ],
   "source": [
    "words = ['tank', 'kick', 'know', 'wheel', 'land', 'dream', 'mother', 'robot', 'tank']\n",
    "n = 3\n",
    "# words = ['hello', 'observe', 'effect', 'take', 'either', 'recognize', 'encourage', 'ensure', 'establish', 'hang', 'gather', 'refer', 'reference', 'estimate', 'executive']\n",
    "# n = 5\n",
    "# words = ['hello', 'one', 'even', 'never', 'now', 'world', 'draw']\n",
    "# n = 2\n",
    "\n",
    "def solution(n, words):\n",
    "    check = 0\n",
    "    for i in range(1, len(words)):\n",
    "        if words[i][0] != words[i-1][-1]:\n",
    "            break\n",
    "        if words[i] in words[0:i]:\n",
    "            break\n",
    "        if i == len(words)-1:\n",
    "            check = 1\n",
    "    print(i+1)\n",
    "    if check == 1:\n",
    "        return [0,0]\n",
    "    result = [(i+1)%n, int((i+1+0.5)/n)+1]\n",
    "    if result[0] == 0:\n",
    "        result[0] = n\n",
    "        result[1] = result[1]-1\n",
    "    return result\n",
    "\n",
    "print(solution(n, words))"
   ]
  },
  {
   "cell_type": "markdown",
   "metadata": {},
   "source": [
    "# 38. 점프와 순간 이동"
   ]
  },
  {
   "cell_type": "code",
   "execution_count": null,
   "metadata": {},
   "outputs": [],
   "source": [
    "#input\n",
    "n = 5\n",
    "n = 6\n",
    "n = 5000\n",
    "\n",
    "# return\n",
    "2\n",
    "2\n",
    "5"
   ]
  },
  {
   "cell_type": "code",
   "execution_count": 5,
   "metadata": {},
   "outputs": [
    {
     "name": "stdout",
     "output_type": "stream",
     "text": [
      "5\n"
     ]
    }
   ],
   "source": [
    "# n = 5\n",
    "# n = 6\n",
    "n = 5000\n",
    "\n",
    "def solution(n):\n",
    "    result = 0\n",
    "    while True:\n",
    "        if n == 0:\n",
    "            return result\n",
    "        elif n%2 == 1:\n",
    "            n -= 1\n",
    "            result += 1\n",
    "        elif n%2 == 0:\n",
    "            n = int(n/2)\n",
    "\n",
    "print(solution(n))"
   ]
  },
  {
   "cell_type": "markdown",
   "metadata": {},
   "source": [
    "# 39. 소수 만들기"
   ]
  },
  {
   "cell_type": "code",
   "execution_count": null,
   "metadata": {},
   "outputs": [],
   "source": [
    "# input\n",
    "nums = [1,2,3,4]\n",
    "nums = [1,2,7,6,4]\n",
    "\n",
    "# return\n",
    "1\n",
    "4"
   ]
  },
  {
   "cell_type": "code",
   "execution_count": 43,
   "metadata": {},
   "outputs": [
    {
     "name": "stdout",
     "output_type": "stream",
     "text": [
      "[1, 2, 4, 6, 7]\n",
      "4\n"
     ]
    }
   ],
   "source": [
    "# nums = [1,2,3,4]\n",
    "nums = [1,2,7,6,4]\n",
    "\n",
    "def prime_list(n):\n",
    "    li = [True]*(n+1)\n",
    "    result = []\n",
    "    for i in range(2, int(n**0.5) + 1):\n",
    "        if li[i] == True:\n",
    "            for j in range(i+i, n+1, i):\n",
    "                li[j] = False\n",
    "    for i in range (2, n+1):\n",
    "        if li[i] == True:\n",
    "            result.append(i)\n",
    "    return result\n",
    "\n",
    "def solution(nums):\n",
    "    import itertools\n",
    "    nums.sort()\n",
    "    max_result = nums[-1] + nums[-2] + nums[-3]\n",
    "    pr_list = prime_list(max_result)\n",
    "    li = list(itertools.combinations(nums,3))\n",
    "    cnt = 0\n",
    "    for i in li:\n",
    "        if sum(i) in pr_list:\n",
    "            cnt += 1\n",
    "    return cnt    \n",
    "\n",
    "print(solution(nums))"
   ]
  },
  {
   "cell_type": "markdown",
   "metadata": {},
   "source": [
    "# 40. 짝지어 제거하기"
   ]
  },
  {
   "cell_type": "code",
   "execution_count": null,
   "metadata": {},
   "outputs": [],
   "source": [
    "# input\n",
    "s = \"baabaa\"\n",
    "s = \"cdcd\"\n",
    "\n",
    "# return\n",
    "1\n",
    "0"
   ]
  },
  {
   "cell_type": "code",
   "execution_count": 109,
   "metadata": {},
   "outputs": [
    {
     "name": "stdout",
     "output_type": "stream",
     "text": [
      "1\n"
     ]
    }
   ],
   "source": [
    "s = \"baabaa\"\n",
    "# s = \"cdcd\"\n",
    "\n",
    "def solution(s):\n",
    "    li = [s[0]]\n",
    "    for i in range(1, len(s)):\n",
    "        if li == []:\n",
    "            li.append(s[i])\n",
    "        elif li[-1] == s[i]:\n",
    "            li.pop()\n",
    "        else:\n",
    "            li.append(s[i])\n",
    "    if li == []:\n",
    "        return 1\n",
    "    else:\n",
    "        return 0\n",
    "\n",
    "print(solution(s))"
   ]
  },
  {
   "cell_type": "markdown",
   "metadata": {},
   "source": [
    "# 41. N개의 최소공배수"
   ]
  },
  {
   "cell_type": "code",
   "execution_count": null,
   "metadata": {},
   "outputs": [],
   "source": [
    "# input\n",
    "arr = [2, 6, 8, 14]\n",
    "arr = [1, 2, 3]\n",
    "\n",
    "# return\n",
    "168\n",
    "6"
   ]
  },
  {
   "cell_type": "code",
   "execution_count": 26,
   "metadata": {},
   "outputs": [
    {
     "name": "stdout",
     "output_type": "stream",
     "text": [
      "6\n"
     ]
    }
   ],
   "source": [
    "# arr = [2, 6, 8, 14]\n",
    "arr = [1, 2, 3]\n",
    "\n",
    "def prime_list(n):\n",
    "    li = [True]*(n+1)\n",
    "    result = []\n",
    "    for i in range(2, int(n**0.5) + 1):\n",
    "        if li[i] == True:\n",
    "            for j in range(i+i, n+1, i):\n",
    "                li[j] = False\n",
    "    for i in range (2, n+1):\n",
    "        if li[i] == True:\n",
    "            result.append(i)\n",
    "    return result\n",
    "\n",
    "def solution(arr):\n",
    "    if 1 in arr:\n",
    "        arr.remove(1)\n",
    "    arr = list(set(arr))\n",
    "    pr_list = prime_list(max(arr))\n",
    "    li = [0] * len(pr_list)\n",
    "    tmp = [0] * len(pr_list)\n",
    "    for i in arr:\n",
    "        while True:\n",
    "            for j in pr_list:\n",
    "                if i % j == 0:\n",
    "                    tmp[pr_list.index(j)] += 1\n",
    "                    i = int(i/j)\n",
    "                    break\n",
    "            if i == 1:\n",
    "                break\n",
    "        for i in range(len(pr_list)):\n",
    "            if tmp[i] > li[i]:\n",
    "                li[i] = tmp[i]\n",
    "        tmp = [0] * len(pr_list)\n",
    "    result = 1\n",
    "    for i in range(len(pr_list)):\n",
    "        result *= pr_list[i]**li[i]\n",
    "    return result\n",
    "\n",
    "print(solution(arr))"
   ]
  },
  {
   "cell_type": "markdown",
   "metadata": {},
   "source": [
    "# 42. JadenCase 문자열 만들기"
   ]
  },
  {
   "cell_type": "code",
   "execution_count": null,
   "metadata": {},
   "outputs": [],
   "source": [
    "# input\n",
    "s = '3people unFollowed me'\n",
    "s = 'for the last week'\n",
    "\n",
    "# return\n",
    "'2poeole Unfollowed Me'\n",
    "\"For The Last Week\""
   ]
  },
  {
   "cell_type": "code",
   "execution_count": 61,
   "metadata": {},
   "outputs": [
    {
     "name": "stdout",
     "output_type": "stream",
     "text": [
      "3people  Unfollowed Me \n"
     ]
    }
   ],
   "source": [
    "s = '3people  unFollowed me '\n",
    "# s = 'for the last week'\n",
    "\n",
    "def solution(s):\n",
    "    li = s.split(' ')\n",
    "    for i in range(len(li)):\n",
    "        if li[i] == '':\n",
    "            continue\n",
    "        li[i] = li[i][0].upper()+li[i][1:].lower()\n",
    "    return ' '.join(li)\n",
    "\n",
    "print(solution(s))"
   ]
  },
  {
   "cell_type": "markdown",
   "metadata": {},
   "source": [
    "# 43. 행렬의 곱셈"
   ]
  },
  {
   "cell_type": "code",
   "execution_count": null,
   "metadata": {},
   "outputs": [],
   "source": [
    "# input\n",
    "arr1 = [[1, 4], [3, 2], [4, 1]]\n",
    "arr2 = [[3, 3], [3, 3]]\n",
    "\n",
    "# result\n",
    "[[15, 15], [15, 15], [15, 15]]"
   ]
  },
  {
   "cell_type": "code",
   "execution_count": 72,
   "metadata": {},
   "outputs": [
    {
     "name": "stdout",
     "output_type": "stream",
     "text": [
      "[[15, 15], [15, 15], [15, 15]]\n"
     ]
    }
   ],
   "source": [
    "arr1 = [[1, 4], [3, 2], [4, 1]]\n",
    "arr2 = [[3, 3], [3, 3]]\n",
    "\n",
    "def solution(arr1, arr2):\n",
    "    result = []\n",
    "    for i in range(len(arr1)):\n",
    "        tmp = []\n",
    "        for j in range(len(arr2[0])):\n",
    "            cnt = 0\n",
    "            for k in range(len(arr1[0])):\n",
    "                num = arr1[i][k]*arr2[k][j]\n",
    "                cnt += num\n",
    "            tmp.append(cnt)\n",
    "        result.append(tmp)\n",
    "    return result\n",
    "\n",
    "print(solution(arr1, arr2))"
   ]
  },
  {
   "cell_type": "markdown",
   "metadata": {},
   "source": [
    "# 44. 피보나치 수"
   ]
  },
  {
   "cell_type": "code",
   "execution_count": null,
   "metadata": {},
   "outputs": [],
   "source": [
    "# input\n",
    "n = 3\n",
    "n = 5\n",
    "\n",
    "# return\n",
    "2\n",
    "5"
   ]
  },
  {
   "cell_type": "code",
   "execution_count": 5,
   "metadata": {},
   "outputs": [
    {
     "name": "stdout",
     "output_type": "stream",
     "text": [
      "2\n"
     ]
    }
   ],
   "source": [
    "n = 3\n",
    "# n = 5\n",
    "\n",
    "def solution(n):\n",
    "    f_1, f_2 = 0, 1\n",
    "    if n == 1:\n",
    "        return f_2\n",
    "    for i in range(n-1):\n",
    "        result = f_1 + f_2\n",
    "        f_1 = f_2\n",
    "        f_2 = result\n",
    "    return result % 1234567\n",
    "\n",
    "print(solution(n))"
   ]
  },
  {
   "cell_type": "markdown",
   "metadata": {},
   "source": [
    "# 45. 최솟값 만들기"
   ]
  },
  {
   "cell_type": "code",
   "execution_count": null,
   "metadata": {},
   "outputs": [],
   "source": [
    "# input\n",
    "A = [1, 4, 2]\n",
    "B = [5, 4, 4]\n",
    "\n",
    "# return\n",
    "29"
   ]
  },
  {
   "cell_type": "code",
   "execution_count": 9,
   "metadata": {},
   "outputs": [
    {
     "name": "stdout",
     "output_type": "stream",
     "text": [
      "29\n"
     ]
    }
   ],
   "source": [
    "A = [1, 4, 2]\n",
    "B = [5, 4, 4]\n",
    "\n",
    "def solution(A,B):\n",
    "    A.sort()\n",
    "    B.sort(reverse = True)\n",
    "    result = 0\n",
    "    for i in range(len(A)):\n",
    "        result += A[i]*B[i]\n",
    "    return result\n",
    "\n",
    "print(solution(A,B))"
   ]
  },
  {
   "cell_type": "markdown",
   "metadata": {},
   "source": [
    "# 46. 최댓값과 최솟값"
   ]
  },
  {
   "cell_type": "code",
   "execution_count": null,
   "metadata": {},
   "outputs": [],
   "source": [
    "# input\n",
    "s = '1 2 3 4'\n",
    "s = '-1 -2 -3 -4'\n",
    "s = '-1 -1'\n",
    "\n",
    "# return\n",
    "'1 4'\n",
    "'-4 -1'\n",
    "'-1 -1'"
   ]
  },
  {
   "cell_type": "code",
   "execution_count": 17,
   "metadata": {},
   "outputs": [
    {
     "name": "stdout",
     "output_type": "stream",
     "text": [
      "1 4\n"
     ]
    }
   ],
   "source": [
    "s = '1 2 3 4'\n",
    "# s = '-1 -2 -3 -4'\n",
    "# s = '-1 -1'\n",
    "\n",
    "def solution(s):\n",
    "    li = s.split()\n",
    "    for i in range(len(li)):\n",
    "        li[i] = int(li[i])\n",
    "    return str(min(li)) + ' ' + str(max(li))\n",
    "\n",
    "print(solution(s))"
   ]
  },
  {
   "cell_type": "markdown",
   "metadata": {},
   "source": [
    "# 47. 숫자의 표현"
   ]
  },
  {
   "cell_type": "code",
   "execution_count": null,
   "metadata": {},
   "outputs": [],
   "source": [
    "# input\n",
    "n = 15\n",
    "\n",
    "# return\n",
    "4"
   ]
  },
  {
   "cell_type": "code",
   "execution_count": 14,
   "metadata": {},
   "outputs": [
    {
     "name": "stdout",
     "output_type": "stream",
     "text": [
      "4\n"
     ]
    }
   ],
   "source": [
    "n = 15\n",
    "\n",
    "def solution(n):\n",
    "    result = 0\n",
    "    for i in range(1, n+1):\n",
    "        tmp = 0\n",
    "        for j in range(i, n+1):\n",
    "            tmp += j\n",
    "            if tmp >= n:\n",
    "                break\n",
    "        if tmp == n:\n",
    "            result += 1\n",
    "    return result\n",
    "\n",
    "print(solution(n))"
   ]
  },
  {
   "cell_type": "markdown",
   "metadata": {},
   "source": [
    "# 48. 포켓몬"
   ]
  },
  {
   "cell_type": "code",
   "execution_count": null,
   "metadata": {},
   "outputs": [],
   "source": [
    "# input\n",
    "nums = [3, 1, 2, 3]\n",
    "\n",
    "# return \n",
    "2"
   ]
  },
  {
   "cell_type": "code",
   "execution_count": 21,
   "metadata": {},
   "outputs": [
    {
     "name": "stdout",
     "output_type": "stream",
     "text": [
      "3\n"
     ]
    }
   ],
   "source": [
    "nums = [3, 1, 2, 3]\n",
    "nums = [3, 3, 3, 2, 2, 4]\n",
    "\n",
    "def solution(nums):\n",
    "    nums1 = list(set(nums))\n",
    "    catch = int(len(nums)/2)\n",
    "    if catch >= len(nums1):\n",
    "        return len(nums1)\n",
    "    else:\n",
    "        return catch\n",
    "\n",
    "print(solution(nums))"
   ]
  },
  {
   "cell_type": "markdown",
   "metadata": {},
   "source": [
    "# 49. 땅따먹기"
   ]
  },
  {
   "cell_type": "code",
   "execution_count": null,
   "metadata": {},
   "outputs": [],
   "source": [
    "# input\n",
    "land = [[1,2,3,5],[5,6,7,8],[4,3,2,1]]\n",
    "\n",
    "# return\n",
    "16"
   ]
  },
  {
   "cell_type": "code",
   "execution_count": 26,
   "metadata": {},
   "outputs": [
    {
     "name": "stdout",
     "output_type": "stream",
     "text": [
      "16\n"
     ]
    }
   ],
   "source": [
    "land = [[1,2,3,5],[5,6,7,8],[4,3,2,1]]\n",
    "\n",
    "def solution(land):\n",
    "    for i in range(1, len(land)):\n",
    "        land[i][0] += max(land[i-1][1], land[i-1][2], land[i-1][3])\n",
    "        land[i][1] += max(land[i-1][0], land[i-1][2], land[i-1][3])\n",
    "        land[i][2] += max(land[i-1][0], land[i-1][1], land[i-1][3])\n",
    "        land[i][3] += max(land[i-1][0], land[i-1][1], land[i-1][2])\n",
    "    return max(land[len(land)-1])\n",
    "\n",
    "print(solution(land))"
   ]
  }
 ],
 "metadata": {
  "kernelspec": {
   "display_name": "Python 3",
   "language": "python",
   "name": "python3"
  },
  "language_info": {
   "codemirror_mode": {
    "name": "ipython",
    "version": 3
   },
   "file_extension": ".py",
   "mimetype": "text/x-python",
   "name": "python",
   "nbconvert_exporter": "python",
   "pygments_lexer": "ipython3",
   "version": "3.6.8"
  }
 },
 "nbformat": 4,
 "nbformat_minor": 2
}
