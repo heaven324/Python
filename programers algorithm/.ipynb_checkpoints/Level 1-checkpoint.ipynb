{
 "cells": [
  {
   "cell_type": "markdown",
   "metadata": {},
   "source": [
    "# 1. 예산"
   ]
  },
  {
   "cell_type": "code",
   "execution_count": null,
   "metadata": {},
   "outputs": [],
   "source": [
    "# 입력1\n",
    "\n",
    "d = [1, 3, 2, 5, 4] # 부서별 신청 금액\n",
    "budget = 9          # 예산\n",
    "# result = 3\n",
    "\n",
    "\n",
    "# 입력 2\n",
    "\n",
    "d = [2, 2, 3, 3]     # 부서별 신청 금액\n",
    "budget = 10          # 예산\n",
    "# result = 4"
   ]
  },
  {
   "cell_type": "code",
   "execution_count": 45,
   "metadata": {},
   "outputs": [
    {
     "name": "stdout",
     "output_type": "stream",
     "text": [
      "3\n"
     ]
    }
   ],
   "source": [
    "d = [1, 3, 2, 5, 4] # 부서별 신청 금액\n",
    "budget = 9\n",
    "\n",
    "def solution(d, budget):\n",
    "    d.sort()\n",
    "    temp = 0\n",
    "    result = -1\n",
    "    for i in range(len(d)):\n",
    "        temp += d[i]\n",
    "        if temp > budget:\n",
    "            result = i\n",
    "            break\n",
    "    if result == -1:\n",
    "        return len(d)\n",
    "    else:\n",
    "        return result\n",
    "    \n",
    "print(solution(d, budget))"
   ]
  },
  {
   "cell_type": "markdown",
   "metadata": {},
   "source": [
    "# 2. 직사각형 별찍기"
   ]
  },
  {
   "cell_type": "code",
   "execution_count": null,
   "metadata": {},
   "outputs": [],
   "source": [
    "a, b = map(int, input().strip().split(' '))\n",
    "for i in range(b):\n",
    "    print('*'*a)\n",
    "    "
   ]
  },
  {
   "cell_type": "markdown",
   "metadata": {},
   "source": [
    "# 3. x만큼 간격이 있는 n개의 숫자"
   ]
  },
  {
   "cell_type": "code",
   "execution_count": null,
   "metadata": {},
   "outputs": [],
   "source": [
    "# input\n",
    "x = 2\n",
    "n = 5\n",
    "\n",
    "# result\n",
    "[2,4,6,8,10]"
   ]
  },
  {
   "cell_type": "code",
   "execution_count": null,
   "metadata": {},
   "outputs": [],
   "source": [
    "def solution(x, n):\n",
    "    temp = 0\n",
    "    result = []\n",
    "    for i in range(n):\n",
    "        temp += x\n",
    "        result.append(temp)\n",
    "    return result"
   ]
  },
  {
   "cell_type": "markdown",
   "metadata": {},
   "source": [
    "# 4. 행렬의 덧셈"
   ]
  },
  {
   "cell_type": "code",
   "execution_count": null,
   "metadata": {},
   "outputs": [],
   "source": [
    "# input\n",
    "arr1 = [[1,2],[2,3]]\n",
    "arr2 = [[3,4],[5,6]]\n",
    "\n",
    "# result\n",
    "[[4,6],[7,9]]"
   ]
  },
  {
   "cell_type": "code",
   "execution_count": null,
   "metadata": {},
   "outputs": [],
   "source": [
    "def solution(arr1, arr2):\n",
    "    result = []\n",
    "    for i in range(len(arr1)):\n",
    "        tmp = []\n",
    "        for j in range(len(arr1[0])):\n",
    "            temp = arr1[i][j] + arr2[i][j]\n",
    "            tmp.append(temp)\n",
    "        result.append(tmp)\n",
    "    return result"
   ]
  },
  {
   "cell_type": "markdown",
   "metadata": {},
   "source": [
    "# 5. 핸드폰 번호 가리기"
   ]
  },
  {
   "cell_type": "code",
   "execution_count": null,
   "metadata": {},
   "outputs": [],
   "source": [
    "# input\n",
    "phone_number = '01033334444'\n",
    "\n",
    "# return\n",
    "\"*******4444\""
   ]
  },
  {
   "cell_type": "code",
   "execution_count": 15,
   "metadata": {},
   "outputs": [],
   "source": [
    "def solution(phone_number):\n",
    "    result = \"*\" * len(phone_number[0:-4]) + phone_number[-4:]\n",
    "    return result"
   ]
  },
  {
   "cell_type": "markdown",
   "metadata": {},
   "source": [
    "# 6. 하샤드 수"
   ]
  },
  {
   "cell_type": "code",
   "execution_count": null,
   "metadata": {},
   "outputs": [],
   "source": [
    "# input\n",
    "x = 10\n",
    "\n",
    "# result\n",
    "True"
   ]
  },
  {
   "cell_type": "code",
   "execution_count": 25,
   "metadata": {},
   "outputs": [
    {
     "name": "stdout",
     "output_type": "stream",
     "text": [
      "True\n"
     ]
    }
   ],
   "source": [
    "x = 10\n",
    "\n",
    "temp = 0\n",
    "for i in range(len(str(x))):\n",
    "    temp += int(str(x)[i])\n",
    "if x%temp == 0:\n",
    "    print(True)\n",
    "else:\n",
    "    print(False)"
   ]
  },
  {
   "cell_type": "code",
   "execution_count": 26,
   "metadata": {},
   "outputs": [],
   "source": [
    "def solution(x):\n",
    "    temp = 0\n",
    "    for i in range(len(str(x))):\n",
    "        temp += int(str(x)[i])\n",
    "    if x%temp == 0:\n",
    "        return True\n",
    "    else:\n",
    "        return False"
   ]
  },
  {
   "cell_type": "markdown",
   "metadata": {},
   "source": [
    "# 7. 평균 구하기"
   ]
  },
  {
   "cell_type": "code",
   "execution_count": null,
   "metadata": {},
   "outputs": [],
   "source": [
    "# input\n",
    "arr = [1,2,3,4]\n",
    "\n",
    "# result\n",
    "2.5"
   ]
  },
  {
   "cell_type": "code",
   "execution_count": null,
   "metadata": {},
   "outputs": [],
   "source": [
    "def solution(arr):\n",
    "    return sum(arr)/len(arr)"
   ]
  },
  {
   "cell_type": "markdown",
   "metadata": {},
   "source": [
    "# 8. 콜라츠 추측"
   ]
  },
  {
   "cell_type": "code",
   "execution_count": null,
   "metadata": {},
   "outputs": [],
   "source": [
    "# input\n",
    "n = 6\n",
    "\n",
    "# result\n",
    "8"
   ]
  },
  {
   "cell_type": "code",
   "execution_count": 36,
   "metadata": {},
   "outputs": [],
   "source": [
    "def solution(num):\n",
    "    trial = 0\n",
    "    while True:\n",
    "        if num != 1:\n",
    "            if num%2 == 0:\n",
    "                num = num/2\n",
    "            else:\n",
    "                num = num*3 + 1\n",
    "            trial += 1\n",
    "        else:\n",
    "            if trial > 500:\n",
    "                return -1\n",
    "            else:\n",
    "                return trial\n",
    "            break"
   ]
  },
  {
   "cell_type": "markdown",
   "metadata": {},
   "source": [
    "# 9. 최대공약수와 최소공배수"
   ]
  },
  {
   "cell_type": "code",
   "execution_count": null,
   "metadata": {},
   "outputs": [],
   "source": [
    "# input\n",
    "n = 3\n",
    "m = 12\n",
    "\n",
    "# result\n",
    "[3,12]"
   ]
  },
  {
   "cell_type": "code",
   "execution_count": null,
   "metadata": {},
   "outputs": [],
   "source": [
    "def solution(n, m):\n",
    "    mul = n*m\n",
    "    result = []\n",
    "    if n <= m:\n",
    "        dummy = n\n",
    "        n = m\n",
    "        m = dummy\n",
    "    while True:\n",
    "        r = n%m\n",
    "        if r != 0:\n",
    "            n = m\n",
    "            m = r\n",
    "        else:\n",
    "            result.append(m)\n",
    "            break\n",
    "    result.append(int(mul/m))\n",
    "    return result"
   ]
  },
  {
   "cell_type": "markdown",
   "metadata": {},
   "source": [
    "# 10. 짝수와 홀수"
   ]
  },
  {
   "cell_type": "code",
   "execution_count": null,
   "metadata": {},
   "outputs": [],
   "source": [
    "# input\n",
    "num = 3\n",
    "\n",
    "# result\n",
    "\"Odd\""
   ]
  },
  {
   "cell_type": "code",
   "execution_count": null,
   "metadata": {},
   "outputs": [],
   "source": [
    "def solution(num):\n",
    "    if num % 2 == 0:\n",
    "        return \"Even\"\n",
    "    else:\n",
    "        return \"Odd\""
   ]
  },
  {
   "cell_type": "markdown",
   "metadata": {},
   "source": [
    "# 11. 제일 작은 수 제거하기"
   ]
  },
  {
   "cell_type": "code",
   "execution_count": null,
   "metadata": {},
   "outputs": [],
   "source": [
    "# input\n",
    "arr = [4,3,2,1]\n",
    "\n",
    "# result\n",
    "[4,3,2]"
   ]
  },
  {
   "cell_type": "code",
   "execution_count": null,
   "metadata": {},
   "outputs": [],
   "source": [
    "def solution(arr):\n",
    "    arr.remove(min(arr))\n",
    "    if arr == []:\n",
    "        return [-1]\n",
    "    else:\n",
    "        return arr"
   ]
  },
  {
   "cell_type": "markdown",
   "metadata": {},
   "source": [
    "# 12. 정수 제곱근 판별"
   ]
  },
  {
   "cell_type": "code",
   "execution_count": null,
   "metadata": {},
   "outputs": [],
   "source": [
    "# input\n",
    "n = 121\n",
    "\n",
    "# result\n",
    "144"
   ]
  },
  {
   "cell_type": "code",
   "execution_count": null,
   "metadata": {},
   "outputs": [],
   "source": [
    "import math\n",
    "def solution(n):\n",
    "    i = math.sqrt(n)\n",
    "    if i == int(i):\n",
    "        return n + 2*i + 1\n",
    "    else:\n",
    "        return -1"
   ]
  },
  {
   "cell_type": "markdown",
   "metadata": {},
   "source": [
    "# 13. 정수 내림차순으로 배치하기"
   ]
  },
  {
   "cell_type": "code",
   "execution_count": null,
   "metadata": {},
   "outputs": [],
   "source": [
    "# input\n",
    "n = 118372\n",
    "\n",
    "# result\n",
    "873211"
   ]
  },
  {
   "cell_type": "code",
   "execution_count": null,
   "metadata": {},
   "outputs": [],
   "source": [
    "def solution(n):\n",
    "    li = []\n",
    "    for i in str(n):\n",
    "        li.append(i)\n",
    "    li.sort(reverse = True)\n",
    "    num = \"\"\n",
    "    for i in li:\n",
    "        num = num + str(i)\n",
    "    return num"
   ]
  },
  {
   "cell_type": "markdown",
   "metadata": {},
   "source": [
    "# 14. 자연수 뒤집어 배열로 만들기"
   ]
  },
  {
   "cell_type": "code",
   "execution_count": null,
   "metadata": {},
   "outputs": [],
   "source": [
    "# input\n",
    "n = 12345\n",
    "\n",
    "# result\n",
    "result = [5,4,3,2,1]"
   ]
  },
  {
   "cell_type": "code",
   "execution_count": null,
   "metadata": {},
   "outputs": [],
   "source": [
    "def solution(n):\n",
    "    li = []\n",
    "    for i in range(len(str(n))-1, -1, -1):\n",
    "        li.append(int(str(n)[i]))\n",
    "    return li"
   ]
  },
  {
   "cell_type": "markdown",
   "metadata": {},
   "source": [
    "# 15. 자릿수 더하기"
   ]
  },
  {
   "cell_type": "code",
   "execution_count": null,
   "metadata": {},
   "outputs": [],
   "source": [
    "# input\n",
    "n = 123\n",
    "\n",
    "# result\n",
    "6"
   ]
  },
  {
   "cell_type": "code",
   "execution_count": null,
   "metadata": {},
   "outputs": [],
   "source": [
    "def solution(n):\n",
    "    res = 0\n",
    "    for i in str(n):\n",
    "        res += int(i)\n",
    "    return res"
   ]
  },
  {
   "cell_type": "markdown",
   "metadata": {},
   "source": [
    "# 16. 이상한 문자 만들기"
   ]
  },
  {
   "cell_type": "code",
   "execution_count": null,
   "metadata": {},
   "outputs": [],
   "source": [
    "# input\n",
    "s = \"try hello world\"\n",
    "\n",
    "# result\n",
    "\"TrY HeLlO WoRlD\""
   ]
  },
  {
   "cell_type": "code",
   "execution_count": 24,
   "metadata": {},
   "outputs": [
    {
     "name": "stdout",
     "output_type": "stream",
     "text": [
      "TrY hello world\n",
      "TrY HeLlO world\n",
      "TrY HeLlO WoRlD\n"
     ]
    }
   ],
   "source": [
    "def solution(s):\n",
    "    tmp = s.split(' ')\n",
    "    for i in tmp:\n",
    "        li = list(i)\n",
    "        res = \"\"\n",
    "        for j in range(len(li)):\n",
    "            if j % 2 == 0:\n",
    "                li[j] = li[j].upper()\n",
    "            else:\n",
    "                li[j] = li[j].lower()\n",
    "            res += li[j]\n",
    "        tmp[tmp.index(i)] = res\n",
    "    return ' '.join(tmp)"
   ]
  },
  {
   "cell_type": "markdown",
   "metadata": {},
   "source": [
    "# 17. 약수의 합"
   ]
  },
  {
   "cell_type": "code",
   "execution_count": null,
   "metadata": {},
   "outputs": [],
   "source": [
    "# input\n",
    "n = 12\n",
    "\n",
    "# result\n",
    "28"
   ]
  },
  {
   "cell_type": "code",
   "execution_count": 44,
   "metadata": {},
   "outputs": [
    {
     "name": "stdout",
     "output_type": "stream",
     "text": [
      "28\n"
     ]
    }
   ],
   "source": [
    "n = 12\n",
    "\n",
    "def solution(n):\n",
    "    result = 0\n",
    "    for i in range(1, n+1):\n",
    "        if n%i == 0:\n",
    "            result += i\n",
    "    return result\n",
    "\n",
    "print(solution(n))"
   ]
  },
  {
   "cell_type": "markdown",
   "metadata": {},
   "source": [
    "# 18. 시저 암호"
   ]
  },
  {
   "cell_type": "code",
   "execution_count": null,
   "metadata": {},
   "outputs": [],
   "source": [
    "# input\n",
    "s = \"a B z\"\n",
    "n = 4\n",
    "\n",
    "# return\n",
    "\"e F d\""
   ]
  },
  {
   "cell_type": "code",
   "execution_count": 54,
   "metadata": {},
   "outputs": [
    {
     "name": "stdout",
     "output_type": "stream",
     "text": [
      "e F d\n"
     ]
    }
   ],
   "source": [
    "s = \"a B z\"\n",
    "n = 4\n",
    "\n",
    "l_alpha = ['a', 'b', 'c', 'd', 'e', 'f', 'g', 'h', 'i', 'j', 'k', 'l', 'm', 'n', 'o', 'p', 'q', 'r', 's', 't', 'u', 'v', 'w', 'x', 'y', 'z']\n",
    "u_alpha = ['A', 'B', 'C', 'D', 'E', 'F', 'G', 'H', 'I', 'J', 'K', 'L', 'M', 'N', 'O', 'P', 'Q', 'R', 'S', 'T', 'U', 'V', 'W', 'X', 'Y', 'Z']\n",
    "nun = [\" \"]\n",
    "def solution(s, n):\n",
    "    li = list(s)\n",
    "    for i in range(len(li)):\n",
    "        if li[i] in l_alpha:\n",
    "            li[i] = l_alpha[(l_alpha.index(str(li[i]))+n)%len(l_alpha)]\n",
    "        elif li[i] in u_alpha:\n",
    "            li[i] = u_alpha[(u_alpha.index(str(li[i]))+n)%len(u_alpha)]            \n",
    "    return ''.join(li)\n",
    "\n",
    "print(solution(s,n))"
   ]
  },
  {
   "cell_type": "markdown",
   "metadata": {},
   "source": [
    "# 19. 문자열을 정수로 바꾸기"
   ]
  },
  {
   "cell_type": "code",
   "execution_count": null,
   "metadata": {},
   "outputs": [],
   "source": [
    "def solution(s):\n",
    "    answer = int(s)\n",
    "    return answer"
   ]
  },
  {
   "cell_type": "markdown",
   "metadata": {},
   "source": [
    "# 20. 수박수박수박수박수박수?"
   ]
  },
  {
   "cell_type": "code",
   "execution_count": null,
   "metadata": {},
   "outputs": [],
   "source": [
    "# input\n",
    "n = 3\n",
    "\n",
    "# return\n",
    "\"수박수\""
   ]
  },
  {
   "cell_type": "code",
   "execution_count": null,
   "metadata": {},
   "outputs": [],
   "source": [
    "def solution(n):\n",
    "    answer = ''\n",
    "    for i in range(n):\n",
    "        if i%2 == 0:\n",
    "            answer += \"수\"\n",
    "        else:\n",
    "            answer += \"박\"\n",
    "    return answer"
   ]
  },
  {
   "cell_type": "markdown",
   "metadata": {},
   "source": [
    "# 21. 소수 찾기"
   ]
  },
  {
   "cell_type": "markdown",
   "metadata": {},
   "source": [
    "### 에라토스테네스의 체 활용"
   ]
  },
  {
   "cell_type": "code",
   "execution_count": null,
   "metadata": {},
   "outputs": [],
   "source": [
    "# input\n",
    "n = 10\n",
    "\n",
    "# return\n",
    "4"
   ]
  },
  {
   "cell_type": "code",
   "execution_count": 56,
   "metadata": {},
   "outputs": [
    {
     "name": "stdout",
     "output_type": "stream",
     "text": [
      "4\n"
     ]
    }
   ],
   "source": [
    "n = 10\n",
    "\n",
    "def solution(n):\n",
    "    li = [True]*(n+1)\n",
    "    cnt = 0\n",
    "    for i in range(2, int(n**0.5) + 1):\n",
    "        if li[i] == True:\n",
    "            for j in range(i+i, n+1, i):\n",
    "                li[j] = False\n",
    "    for i in range (2, n+1):\n",
    "        if li[i] == True:\n",
    "            cnt += 1\n",
    "    return cnt\n",
    "\n",
    "print(solution(n))"
   ]
  },
  {
   "cell_type": "markdown",
   "metadata": {},
   "source": [
    "# 22. 서울에서 김서방 찾기"
   ]
  },
  {
   "cell_type": "code",
   "execution_count": null,
   "metadata": {},
   "outputs": [],
   "source": [
    "# input\n",
    "seoul = [\"Jane\", \"Kim\"]\n",
    "\n",
    "# return\n",
    "\"김서방은 1에있다\""
   ]
  },
  {
   "cell_type": "code",
   "execution_count": 61,
   "metadata": {},
   "outputs": [
    {
     "name": "stdout",
     "output_type": "stream",
     "text": [
      "김서방은 1에 있다\n"
     ]
    }
   ],
   "source": [
    "seoul = [\"Jane\", \"Kim\"]\n",
    "\n",
    "def solution(seoul):\n",
    "    return \"김서방은 \" + str(seoul.index(\"Kim\")) + \"에 있다\"\n",
    "\n",
    "print(solution(seoul))"
   ]
  },
  {
   "cell_type": "markdown",
   "metadata": {},
   "source": [
    "# 23. 문자열 다루기 기본"
   ]
  },
  {
   "cell_type": "code",
   "execution_count": null,
   "metadata": {},
   "outputs": [],
   "source": [
    "# input\n",
    "s = \"1234\"\n",
    "\n",
    "# return\n",
    "True"
   ]
  },
  {
   "cell_type": "code",
   "execution_count": 72,
   "metadata": {},
   "outputs": [
    {
     "name": "stdout",
     "output_type": "stream",
     "text": [
      "False\n"
     ]
    }
   ],
   "source": [
    "s = \"a234\"\n",
    "\n",
    "def solution(s):\n",
    "    if len(s) == 4 or len(s) == 6:\n",
    "        if s.isdigit() == True:\n",
    "            return True\n",
    "    return False\n",
    "\n",
    "print(solution(s))"
   ]
  },
  {
   "cell_type": "markdown",
   "metadata": {},
   "source": [
    "# 24. 문자열 내림차순으로 배치하기"
   ]
  },
  {
   "cell_type": "code",
   "execution_count": null,
   "metadata": {},
   "outputs": [],
   "source": [
    "# input\n",
    "s = \"Zbcdefg\"\n",
    "\n",
    "# return\n",
    "\"gfedcbZ\""
   ]
  },
  {
   "cell_type": "code",
   "execution_count": 5,
   "metadata": {},
   "outputs": [
    {
     "name": "stdout",
     "output_type": "stream",
     "text": [
      "gfedcbZ\n"
     ]
    }
   ],
   "source": [
    "s = \"Zbcdefg\"\n",
    "\n",
    "def solution(s):\n",
    "    li = list(s)\n",
    "    li.sort(reverse=True)\n",
    "    return ''.join(li)\n",
    "\n",
    "print(solution(s))"
   ]
  },
  {
   "cell_type": "markdown",
   "metadata": {},
   "source": [
    "# 25. 문자열 내 p와 y의 개수"
   ]
  },
  {
   "cell_type": "code",
   "execution_count": null,
   "metadata": {},
   "outputs": [],
   "source": [
    "# input\n",
    "s = \"pPoooyY\"\n",
    "\n",
    "# return\n",
    "True"
   ]
  },
  {
   "cell_type": "code",
   "execution_count": 10,
   "metadata": {},
   "outputs": [
    {
     "name": "stdout",
     "output_type": "stream",
     "text": [
      "True\n"
     ]
    }
   ],
   "source": [
    "s = \"pPoooyY\"\n",
    "\n",
    "def solution(s):\n",
    "    ss = s.lower()\n",
    "    if ss.count(\"p\") == ss.count('y'):\n",
    "        return True\n",
    "    else:\n",
    "        return False\n",
    "\n",
    "print(solution(s))"
   ]
  },
  {
   "cell_type": "markdown",
   "metadata": {},
   "source": [
    "# 26. 문자열 내 마음대로 정렬하기"
   ]
  },
  {
   "cell_type": "code",
   "execution_count": null,
   "metadata": {},
   "outputs": [],
   "source": [
    "# input\n",
    "strings = [\"sun\", \"bed\", \"car\"]\n",
    "n = 1\n",
    "\n",
    "# return\n",
    "[\"car\", \"bed\", \"sun\"]"
   ]
  },
  {
   "cell_type": "code",
   "execution_count": 37,
   "metadata": {
    "scrolled": true
   },
   "outputs": [
    {
     "name": "stdout",
     "output_type": "stream",
     "text": [
      "['car', 'bed', 'sun']\n"
     ]
    }
   ],
   "source": [
    "strings = [\"sun\", \"bed\", \"car\"]\n",
    "n = 1\n",
    "\n",
    "def solution(strings, n):\n",
    "    strings.sort()\n",
    "    strings.sort(key = lambda i:i[n])\n",
    "    return strings\n",
    "\n",
    "print(solution(strings, n))"
   ]
  },
  {
   "cell_type": "markdown",
   "metadata": {},
   "source": [
    "# 27. 두 정수 사이의 합"
   ]
  },
  {
   "cell_type": "code",
   "execution_count": null,
   "metadata": {},
   "outputs": [],
   "source": [
    "# input\n",
    "a = 3\n",
    "b = 5\n",
    "\n",
    "# return\n",
    "12"
   ]
  },
  {
   "cell_type": "code",
   "execution_count": 40,
   "metadata": {},
   "outputs": [
    {
     "name": "stdout",
     "output_type": "stream",
     "text": [
      "12\n"
     ]
    }
   ],
   "source": [
    "a = 3\n",
    "b = 5\n",
    "\n",
    "def solution(a, b):\n",
    "    cnt = 0\n",
    "    if a <= b:\n",
    "        for i in range(a, b+1):\n",
    "            cnt += i\n",
    "    else:\n",
    "        for i in range(b, a+1):\n",
    "            cnt += i\n",
    "\n",
    "    return cnt\n",
    "\n",
    "print(solution(a, b))"
   ]
  },
  {
   "cell_type": "markdown",
   "metadata": {},
   "source": [
    "# 28. 나누어 떨어지는 숫자 배열"
   ]
  },
  {
   "cell_type": "code",
   "execution_count": null,
   "metadata": {},
   "outputs": [],
   "source": [
    "# input\n",
    "arr = [5, 9, 7, 10]\n",
    "divisor = 5\n",
    "\n",
    "# return\n",
    "[5, 10]"
   ]
  },
  {
   "cell_type": "code",
   "execution_count": 43,
   "metadata": {},
   "outputs": [
    {
     "name": "stdout",
     "output_type": "stream",
     "text": [
      "[5, 10]\n"
     ]
    }
   ],
   "source": [
    "arr = [5, 9, 7, 10]\n",
    "divisor = 5\n",
    "\n",
    "def solution(arr, divisor):\n",
    "    answer = []\n",
    "    for i in arr:\n",
    "        if i % divisor == 0:\n",
    "            answer.append(i)\n",
    "    if answer == []:\n",
    "        return [-1]\n",
    "    answer.sort()\n",
    "    return answer\n",
    "\n",
    "print(solution(arr, divisor))"
   ]
  },
  {
   "cell_type": "markdown",
   "metadata": {},
   "source": [
    "# 29. 같은 숫자는 싫어"
   ]
  },
  {
   "cell_type": "code",
   "execution_count": 46,
   "metadata": {},
   "outputs": [
    {
     "data": {
      "text/plain": [
       "[1, 3, 0, 1]"
      ]
     },
     "execution_count": 46,
     "metadata": {},
     "output_type": "execute_result"
    }
   ],
   "source": [
    "# input\n",
    "arr = [1,1,3,3,0,1,1]\n",
    "\n",
    "# return\n",
    "[1,3,0,1]"
   ]
  },
  {
   "cell_type": "code",
   "execution_count": 77,
   "metadata": {},
   "outputs": [
    {
     "name": "stdout",
     "output_type": "stream",
     "text": [
      "[1, 3, 0, 1]\n"
     ]
    }
   ],
   "source": [
    "arr = [1,1,3,3,0,1,1]\n",
    "\n",
    "def solution(arr):\n",
    "    r = [arr[0]]\n",
    "    for i in range(len(arr)-1):\n",
    "        if arr[i] != arr[i+1]:\n",
    "            r.append(arr[i+1])\n",
    "    return r\n",
    "\n",
    "print(solution(arr))"
   ]
  },
  {
   "cell_type": "markdown",
   "metadata": {},
   "source": [
    "# 30. 가운데 글자 가져오기"
   ]
  },
  {
   "cell_type": "code",
   "execution_count": null,
   "metadata": {},
   "outputs": [],
   "source": [
    "# input\n",
    "s = \"abcde\"\n",
    "\n",
    "# return\n",
    "\"c\""
   ]
  },
  {
   "cell_type": "code",
   "execution_count": 91,
   "metadata": {},
   "outputs": [
    {
     "name": "stdout",
     "output_type": "stream",
     "text": [
      "c\n"
     ]
    }
   ],
   "source": [
    "s = \"abcde\"\n",
    "\n",
    "def solution(s):\n",
    "    l = len(s)\n",
    "    l2 = int(len(s)/2)\n",
    "    if l % 2 == 0:\n",
    "        return s[l2-1:l2+1]\n",
    "    if l%2 == 1:\n",
    "        return s[l2]\n",
    "\n",
    "print(solution(s))"
   ]
  },
  {
   "cell_type": "markdown",
   "metadata": {},
   "source": [
    "# 31. 2016년"
   ]
  },
  {
   "cell_type": "code",
   "execution_count": null,
   "metadata": {},
   "outputs": [],
   "source": [
    "# input\n",
    "a = 5\n",
    "b = 24\n",
    "\n",
    "# return\n",
    "\"TUE\""
   ]
  },
  {
   "cell_type": "code",
   "execution_count": 104,
   "metadata": {},
   "outputs": [
    {
     "name": "stdout",
     "output_type": "stream",
     "text": [
      "TUE\n"
     ]
    }
   ],
   "source": [
    "a = 5\n",
    "b = 24\n",
    "\n",
    "def solution(a, b):\n",
    "    from datetime import date\n",
    "    week = [\"MON\", \"TUE\", \"WED\", \"THU\", \"FRI\", \"SAT\", \"SUN\"]\n",
    "    w = date(16,a,b).weekday()\n",
    "    return week[w]\n",
    "    \n",
    "print(solution(a,b))"
   ]
  },
  {
   "cell_type": "markdown",
   "metadata": {},
   "source": [
    "# 32. 체육복"
   ]
  },
  {
   "cell_type": "code",
   "execution_count": null,
   "metadata": {},
   "outputs": [],
   "source": [
    "# input\n",
    "n = 5\n",
    "lost = [2, 4]\n",
    "reserve = [1, 3, 5]\n",
    "\n",
    "# return\n",
    "5"
   ]
  },
  {
   "cell_type": "code",
   "execution_count": 5,
   "metadata": {},
   "outputs": [
    {
     "name": "stdout",
     "output_type": "stream",
     "text": [
      "5\n"
     ]
    }
   ],
   "source": [
    "n = 5\n",
    "lost = [2, 4]\n",
    "reserve = [1, 3, 5]\n",
    "\n",
    "def solution(n, lost, reserve):\n",
    "    lost1 = []\n",
    "    for i in lost:\n",
    "        if i in reserve:\n",
    "            reserve.remove(i)\n",
    "        else:\n",
    "            lost1.append(i)\n",
    "    for i in lost1:\n",
    "        if i-1 in reserve:\n",
    "            reserve.remove(i-1)\n",
    "            pass\n",
    "        elif i+1 in reserve:\n",
    "            reserve.remove(i+1)\n",
    "            pass\n",
    "        else:\n",
    "            n -= 1  \n",
    "    return n\n",
    "\n",
    "print(solution(n, lost, reserve))"
   ]
  },
  {
   "cell_type": "markdown",
   "metadata": {},
   "source": [
    "# 33. K번째수"
   ]
  },
  {
   "cell_type": "code",
   "execution_count": null,
   "metadata": {},
   "outputs": [],
   "source": [
    "# input\n",
    "array = [1, 5, 2, 6, 3, 7, 4]\n",
    "commands = [[2,5,3], [4,4,1], [1,7,3]]\n",
    "\n",
    "# return\n",
    "[5, 6, 3]"
   ]
  },
  {
   "cell_type": "code",
   "execution_count": 17,
   "metadata": {},
   "outputs": [
    {
     "name": "stdout",
     "output_type": "stream",
     "text": [
      "[5, 6, 3]\n"
     ]
    }
   ],
   "source": [
    "array = [1, 5, 2, 6, 3, 7, 4]\n",
    "commands = [[2,5,3], [4,4,1], [1,7,3]]\n",
    "\n",
    "def solution(array, commands):\n",
    "    result = []\n",
    "    for i in commands:\n",
    "        arr = array[i[0]-1:i[1]]\n",
    "        arr.sort()\n",
    "        result.append(arr[i[2]-1])\n",
    "    return result\n",
    "\n",
    "print(solution(array, commands))"
   ]
  },
  {
   "cell_type": "markdown",
   "metadata": {},
   "source": [
    "# 34. 모의고사"
   ]
  },
  {
   "cell_type": "code",
   "execution_count": null,
   "metadata": {},
   "outputs": [],
   "source": [
    "# input\n",
    "answers = [1,2,3,4,5]\n",
    "\n",
    "# return\n",
    "[1]"
   ]
  },
  {
   "cell_type": "code",
   "execution_count": 27,
   "metadata": {},
   "outputs": [
    {
     "name": "stdout",
     "output_type": "stream",
     "text": [
      "[1]\n"
     ]
    }
   ],
   "source": [
    "answers = [1,2,3,4,5]\n",
    "\n",
    "def solution(answers):\n",
    "    first = [1,2,3,4,5]\n",
    "    cnt1 = 0\n",
    "    second = [2,1,2,3,2,4,2,5]\n",
    "    cnt2 = 0\n",
    "    third = [3,3,1,1,2,2,4,4,5,5]\n",
    "    cnt3 = 0\n",
    "    result = []\n",
    "    for i in range(len(answers)):\n",
    "        if answers[i] == first[i%len(first)]:\n",
    "            cnt1 += 1\n",
    "        if answers[i] == second[i%len(second)]:\n",
    "            cnt2 += 1\n",
    "        if answers[i] == third[i%len(third)]:\n",
    "            cnt3 += 1\n",
    "    mc = max(cnt1, cnt2, cnt3)\n",
    "    if cnt1 == mc:\n",
    "        result.append(1)\n",
    "    if cnt2 == mc:\n",
    "        result.append(2)\n",
    "    if cnt3 == mc:\n",
    "        result.append(3)\n",
    "    return result\n",
    "        \n",
    "\n",
    "print(solution(answers))"
   ]
  },
  {
   "cell_type": "markdown",
   "metadata": {},
   "source": [
    "# 35. 완주하지 못한 선수"
   ]
  },
  {
   "cell_type": "code",
   "execution_count": null,
   "metadata": {},
   "outputs": [],
   "source": [
    "# input\n",
    "participant = ['marina', 'josipa', 'nikola', 'vinko', 'filipa']\n",
    "completion = ['josipa', 'filipa', 'marina', 'nikola']\n",
    "\n",
    "# return\n",
    "\"vinco\""
   ]
  },
  {
   "cell_type": "code",
   "execution_count": 36,
   "metadata": {},
   "outputs": [
    {
     "name": "stdout",
     "output_type": "stream",
     "text": [
      "['filipa', 'josipa', 'marina', 'nikola', 'vinko']\n",
      "['filipa', 'josipa', 'marina', 'nikola']\n",
      "filipa\n",
      "josipa\n",
      "marina\n",
      "nikola\n",
      "vinko\n"
     ]
    }
   ],
   "source": [
    "participant = ['marina', 'josipa', 'nikola', 'vinko', 'filipa']\n",
    "completion = ['josipa', 'filipa', 'marina', 'nikola']\n",
    "\n",
    "def solution(participant, completion):\n",
    "    participant.sort()\n",
    "    completion.sort()\n",
    "    for i in range(len(completion)):\n",
    "        if participant[i] != completion[i]:\n",
    "            return participant[i]\n",
    "    return participant[i+1]\n",
    "\n",
    "print(solution(participant, completion))"
   ]
  }
 ],
 "metadata": {
  "kernelspec": {
   "display_name": "Python 3",
   "language": "python",
   "name": "python3"
  },
  "language_info": {
   "codemirror_mode": {
    "name": "ipython",
    "version": 3
   },
   "file_extension": ".py",
   "mimetype": "text/x-python",
   "name": "python",
   "nbconvert_exporter": "python",
   "pygments_lexer": "ipython3",
   "version": "3.6.8"
  }
 },
 "nbformat": 4,
 "nbformat_minor": 2
}
