{
 "cells": [
  {
   "cell_type": "markdown",
   "metadata": {},
   "source": [
    "# os 패키지"
   ]
  },
  {
   "cell_type": "markdown",
   "metadata": {},
   "source": [
    "#### os.listdir('디렉토리')\n",
    "    해당 디렉터리에 있는 파일들의 리스트를 구할 수 있다."
   ]
  },
  {
   "cell_type": "code",
   "execution_count": 4,
   "metadata": {},
   "outputs": [
    {
     "data": {
      "text/plain": [
       "['1. 학교', '2. 과외', '3. 자격증', '4. 빅데이터 학원', '5. 취업준비']"
      ]
     },
     "execution_count": 4,
     "metadata": {},
     "output_type": "execute_result"
    }
   ],
   "source": [
    "#예시\n",
    "''\n",
    "import os\n",
    "os.listdir(\"D:\\\\Study\")"
   ]
  },
  {
   "cell_type": "markdown",
   "metadata": {},
   "source": [
    "\n",
    "#### os.getcwd()\n",
    "    Current Working directory를 보여준다."
   ]
  },
  {
   "cell_type": "code",
   "execution_count": 29,
   "metadata": {},
   "outputs": [
    {
     "data": {
      "text/plain": [
       "'D:\\\\Study\\\\4. 빅데이터 학원\\\\4. 파이썬\\\\5. 패키지 분석'"
      ]
     },
     "execution_count": 29,
     "metadata": {},
     "output_type": "execute_result"
    }
   ],
   "source": [
    "#예시\n",
    "\n",
    "import os\n",
    "os.getcwd()"
   ]
  },
  {
   "cell_type": "markdown",
   "metadata": {},
   "source": [
    "#### os.chdir('파일경로')\n",
    "    Current Working Directory를 이동"
   ]
  },
  {
   "cell_type": "code",
   "execution_count": 30,
   "metadata": {},
   "outputs": [
    {
     "name": "stdout",
     "output_type": "stream",
     "text": [
      "D:\\Study\\4. 빅데이터 학원\\4. 파이썬\\5. 패키지 분석\n",
      "D:\\Study\n"
     ]
    }
   ],
   "source": [
    "# 예시 \n",
    "\n",
    "import os\n",
    "print(os.getcwd())\n",
    "os.chdir('D:\\\\Study')\n",
    "print(os.getcwd())"
   ]
  },
  {
   "cell_type": "markdown",
   "metadata": {},
   "source": [
    "## os.path"
   ]
  },
  {
   "cell_type": "markdown",
   "metadata": {},
   "source": [
    "#### os.path.isdir('파일경로/파일')\n",
    "    선택한 파일이 디렉토리인지 확인, 존재성 확인 포함\n",
    "#### os.path.isfile('파일경로/파일')\n",
    "    선택한 파일이 파일인지 확인, 존재성 확인 포함"
   ]
  },
  {
   "cell_type": "code",
   "execution_count": 10,
   "metadata": {},
   "outputs": [
    {
     "name": "stdout",
     "output_type": "stream",
     "text": [
      "True\n",
      "False\n"
     ]
    }
   ],
   "source": [
    "#예시\n",
    "\n",
    "import os\n",
    "print(os.path.isdir('D:\\\\Study\\\\4. 빅데이터 학원\\\\4. 파이썬\\\\5. 패키지 분석'))\n",
    "print(os.path.isfile('D:\\\\Study\\\\4. 빅데이터 학원\\\\4. 파이썬\\\\5. 패키지 분석'))"
   ]
  },
  {
   "cell_type": "markdown",
   "metadata": {},
   "source": [
    "#### os.path.exists('파일경로/파일')\n",
    "    파일이나 폴더의 존재성을 확인"
   ]
  },
  {
   "cell_type": "code",
   "execution_count": 11,
   "metadata": {},
   "outputs": [
    {
     "name": "stdout",
     "output_type": "stream",
     "text": [
      "True\n"
     ]
    }
   ],
   "source": [
    "# 예시\n",
    "\n",
    "import os\n",
    "print(os.path.exists('D:\\\\Study\\\\4. 빅데이터 학원\\\\4. 파이썬\\\\5. 패키지 분석'))"
   ]
  },
  {
   "cell_type": "markdown",
   "metadata": {},
   "source": [
    "#### os.path.getsize('파일경로/파일')\n",
    "    파일의 크기를 보여준다."
   ]
  },
  {
   "cell_type": "code",
   "execution_count": 13,
   "metadata": {},
   "outputs": [
    {
     "name": "stdout",
     "output_type": "stream",
     "text": [
      "0\n"
     ]
    }
   ],
   "source": [
    "# 예시\n",
    "\n",
    "import os\n",
    "print(os.path.getsize('D:\\\\Study\\\\4. 빅데이터 학원\\\\4. 파이썬\\\\5. 패키지 분석'))"
   ]
  },
  {
   "cell_type": "markdown",
   "metadata": {},
   "source": [
    "#### os.path.split('파일경로/파일')\n",
    "    파일부분과 폴더부분을 서로 잘라준다."
   ]
  },
  {
   "cell_type": "code",
   "execution_count": 15,
   "metadata": {},
   "outputs": [
    {
     "name": "stdout",
     "output_type": "stream",
     "text": [
      "('D:\\\\Study\\\\4. 빅데이터 학원\\\\4. 파이썬\\\\4. Working Directory', 'test.txt')\n"
     ]
    }
   ],
   "source": [
    "# 예시\n",
    "\n",
    "import os\n",
    "print(os.path.split(\"D:\\\\Study\\\\4. 빅데이터 학원\\\\4. 파이썬\\\\4. Working Directory\\\\test.txt\"))"
   ]
  },
  {
   "cell_type": "markdown",
   "metadata": {},
   "source": [
    "#### os.path.join('파일경로', '파일')\n",
    "    파일경로와 파일을 서로 합친다."
   ]
  },
  {
   "cell_type": "code",
   "execution_count": 16,
   "metadata": {},
   "outputs": [
    {
     "name": "stdout",
     "output_type": "stream",
     "text": [
      "D:\\Study\\4. 빅데이터 학원\\4. 파이썬\\4. Working Directory\\test.txt\n"
     ]
    }
   ],
   "source": [
    "# 예시\n",
    "\n",
    "import os\n",
    "print(os.path.join('D:\\\\Study\\\\4. 빅데이터 학원\\\\4. 파이썬\\\\4. Working Directory', 'test.txt'))"
   ]
  },
  {
   "cell_type": "markdown",
   "metadata": {},
   "source": [
    "#### os.path.dirname('파일경로/파일')\n",
    "    파일의 경로를 보여준다.\n",
    "#### os.path.basename('파일경로/파일')\n",
    "    파일의 이름을 보여준다."
   ]
  },
  {
   "cell_type": "code",
   "execution_count": 18,
   "metadata": {},
   "outputs": [
    {
     "name": "stdout",
     "output_type": "stream",
     "text": [
      "D:\\Study\\4. 빅데이터 학원\\4. 파이썬\\4. Working Directory\n",
      "test.txt\n"
     ]
    }
   ],
   "source": [
    "# 예시\n",
    "\n",
    "import os\n",
    "name = \"D:\\\\Study\\\\4. 빅데이터 학원\\\\4. 파이썬\\\\4. Working Directory\\\\test.txt\"\n",
    "print(os.path.dirname(name))\n",
    "print(os.path.basename(name))"
   ]
  },
  {
   "cell_type": "markdown",
   "metadata": {},
   "source": [
    "#### os.path.splitext('파일경로/파일')\n",
    "    확장자만 따로 떨어뜨린다."
   ]
  },
  {
   "cell_type": "code",
   "execution_count": 19,
   "metadata": {},
   "outputs": [
    {
     "name": "stdout",
     "output_type": "stream",
     "text": [
      "('D:\\\\Study\\\\4. 빅데이터 학원\\\\4. 파이썬\\\\4. Working Directory\\\\test', '.txt')\n"
     ]
    }
   ],
   "source": [
    "# 예시\n",
    "\n",
    "import os\n",
    "name = \"D:\\\\Study\\\\4. 빅데이터 학원\\\\4. 파이썬\\\\4. Working Directory\\\\test.txt\"\n",
    "print(os.path.splitext(name))"
   ]
  },
  {
   "cell_type": "markdown",
   "metadata": {},
   "source": [
    "#### os.path.normpath('파일경로/파일')\n",
    "    리눅스와 윈도우 디렉토리포맷이 섞이거나, 잘못 써졌을 때 고치는 방법\n",
    "   "
   ]
  },
  {
   "cell_type": "code",
   "execution_count": 20,
   "metadata": {},
   "outputs": [
    {
     "name": "stdout",
     "output_type": "stream",
     "text": [
      "D:\\Study\\4. 빅데이터 학원\\4. 파이썬\\4. Working Directory\\test.txt\n"
     ]
    }
   ],
   "source": [
    "# 예시\n",
    "\n",
    "import os\n",
    "mixed = \"D:\\\\Study\\\\4. 빅데이터 학원\\\\4. 파이썬/4. Working Directory/test.txt\"\n",
    "print(os.path.normpath(mixed))"
   ]
  },
  {
   "cell_type": "code",
   "execution_count": null,
   "metadata": {},
   "outputs": [],
   "source": []
  }
 ],
 "metadata": {
  "kernelspec": {
   "display_name": "Python 3",
   "language": "python",
   "name": "python3"
  },
  "language_info": {
   "codemirror_mode": {
    "name": "ipython",
    "version": 3
   },
   "file_extension": ".py",
   "mimetype": "text/x-python",
   "name": "python",
   "nbconvert_exporter": "python",
   "pygments_lexer": "ipython3",
   "version": "3.6.8"
  }
 },
 "nbformat": 4,
 "nbformat_minor": 2
}
