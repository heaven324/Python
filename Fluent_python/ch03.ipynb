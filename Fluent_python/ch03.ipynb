{
 "cells": [
  {
   "attachments": {},
   "cell_type": "markdown",
   "metadata": {},
   "source": [
    "# CH03 딕셔너리와 집합"
   ]
  },
  {
   "attachments": {},
   "cell_type": "markdown",
   "metadata": {},
   "source": [
    "딕셔너리에 여러 매핑형이 사용될 수 있기 때문에 함수 인수를 검사할 때 `dict`형인지 검사하는 것보다 `isinstance()` 함수를 사용하는 것이 좋다."
   ]
  },
  {
   "cell_type": "code",
   "execution_count": 1,
   "metadata": {},
   "outputs": [
    {
     "data": {
      "text/plain": [
       "True"
      ]
     },
     "execution_count": 1,
     "metadata": {},
     "output_type": "execute_result"
    }
   ],
   "source": [
    "my_dict = {}\n",
    "import collections\n",
    "isinstance(my_dict, collections.abc.Mapping)"
   ]
  },
  {
   "attachments": {},
   "cell_type": "markdown",
   "metadata": {},
   "source": [
    "해시 가능성\n",
    "- `str, byte, 수치형, frozenset` 은 모두 해시 가능하다.\n",
    "- 튜플은 들어있는 항목들이 모두 해시 가능해야 해시 가능하다.\n",
    "- `dict`는 키가 해시 가능해야한다."
   ]
  },
  {
   "cell_type": "code",
   "execution_count": 4,
   "metadata": {},
   "outputs": [
    {
     "name": "stdout",
     "output_type": "stream",
     "text": [
      "-3907003130834322577\n",
      "5149391500123939311\n"
     ]
    },
    {
     "ename": "TypeError",
     "evalue": "unhashable type: 'list'",
     "output_type": "error",
     "traceback": [
      "\u001b[1;31m---------------------------------------------------------------------------\u001b[0m",
      "\u001b[1;31mTypeError\u001b[0m                                 Traceback (most recent call last)",
      "Cell \u001b[1;32mIn[4], line 8\u001b[0m\n\u001b[0;32m      5\u001b[0m \u001b[39mprint\u001b[39m(\u001b[39mhash\u001b[39m(tf))\n\u001b[0;32m      7\u001b[0m tl \u001b[39m=\u001b[39m (\u001b[39m1\u001b[39m, \u001b[39m2\u001b[39m, [\u001b[39m30\u001b[39m, \u001b[39m40\u001b[39m])\n\u001b[1;32m----> 8\u001b[0m \u001b[39mprint\u001b[39m(\u001b[39mhash\u001b[39;49m(tl))\n",
      "\u001b[1;31mTypeError\u001b[0m: unhashable type: 'list'"
     ]
    }
   ],
   "source": [
    "tt = (1, 2, (30, 40))\n",
    "print(hash(tt))\n",
    "\n",
    "tf = (1, 2, frozenset([30, 40]))\n",
    "print(hash(tf))\n",
    "\n",
    "tl = (1, 2, [30, 40])\n",
    "print(hash(tl))     # 리스트가 포함되어 해시 불가능"
   ]
  },
  {
   "attachments": {},
   "cell_type": "markdown",
   "metadata": {},
   "source": [
    "`dict`를 구현하는 다양한 방법"
   ]
  },
  {
   "cell_type": "code",
   "execution_count": 10,
   "metadata": {},
   "outputs": [
    {
     "name": "stdout",
     "output_type": "stream",
     "text": [
      "True\n"
     ]
    }
   ],
   "source": [
    "a = dict(one=1, two=2, three=3)\n",
    "b = {'one': 1, 'two': 2, 'three': 3}\n",
    "c = dict(zip(['one', 'two', 'three'], [1, 2, 3]))\n",
    "d = dict([('two', 2), ('one', 1), ('three', 3)])\n",
    "e = dict({'three': 3, 'one': 1, 'two': 2})\n",
    "print(a == b == c == d == e)"
   ]
  },
  {
   "attachments": {},
   "cell_type": "markdown",
   "metadata": {},
   "source": [
    "## 지능형 딕셔너리"
   ]
  },
  {
   "cell_type": "code",
   "execution_count": 13,
   "metadata": {},
   "outputs": [
    {
     "name": "stdout",
     "output_type": "stream",
     "text": [
      "{'China': 86, 'India': 91, 'United States': 1, 'Indonesia': 62, 'Brazil': 55, 'Pakistan': 92, 'Bangladesh': 880, 'Nigeria': 234, 'Russia': 7, 'Japan': 81}\n",
      "{86: 'CHINA', 91: 'INDIA', 1: 'UNITED STATES', 62: 'INDONESIA', 55: 'BRAZIL', 92: 'PAKISTAN', 880: 'BANGLADESH', 234: 'NIGERIA', 7: 'RUSSIA', 81: 'JAPAN'}\n"
     ]
    }
   ],
   "source": [
    "DIAL_CODES = [(86, 'China'),\n",
    "              (91, 'India'), \n",
    "              (1, 'United States'), \n",
    "              (62, 'Indonesia'), \n",
    "              (55, 'Brazil'), \n",
    "              (92, 'Pakistan'), \n",
    "              (880, 'Bangladesh'), \n",
    "              (234, 'Nigeria'), \n",
    "              (7, 'Russia'), \n",
    "              (81, 'Japan')]\n",
    "country_code = {country: code for code, country in DIAL_CODES}\n",
    "print(country_code)\n",
    "print({code: country.upper() for country, code in country_code.items()})"
   ]
  },
  {
   "attachments": {},
   "cell_type": "markdown",
   "metadata": {},
   "source": [
    "## 공통적인 매핑 메서드\n",
    "### 존재하지 않는 키를 `setdefault()`로 처리하기"
   ]
  },
  {
   "cell_type": "code",
   "execution_count": null,
   "metadata": {},
   "outputs": [],
   "source": [
    "my_dict.setdefault(key, []).append(new_value)\n",
    "\n",
    "# 위와 아래의 결과는 같지만 아래는 두번 검색하는 반면 위는 한번 검색으로 해결함.\n",
    "\n",
    "if key not in my_dict:\n",
    "    my_dict[key] = []\n",
    "my_dict[key].append(new_value)"
   ]
  }
 ],
 "metadata": {
  "kernelspec": {
   "display_name": "mp",
   "language": "python",
   "name": "python3"
  },
  "language_info": {
   "codemirror_mode": {
    "name": "ipython",
    "version": 3
   },
   "file_extension": ".py",
   "mimetype": "text/x-python",
   "name": "python",
   "nbconvert_exporter": "python",
   "pygments_lexer": "ipython3",
   "version": "3.8.15"
  },
  "orig_nbformat": 4,
  "vscode": {
   "interpreter": {
    "hash": "78783f9b0ba6fa87bb708f0c3ffac120ddccce573cd682d1ac074abd5d86c0c6"
   }
  }
 },
 "nbformat": 4,
 "nbformat_minor": 2
}
